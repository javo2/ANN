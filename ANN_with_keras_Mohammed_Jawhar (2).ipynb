{
 "cells": [
  {
   "cell_type": "markdown",
   "metadata": {
    "id": "Tt33MaWJacqY"
   },
   "source": [
    "# Artificial Neural Networks with Keras"
   ]
  },
  {
   "cell_type": "markdown",
   "metadata": {
    "id": "sKoKlzMkacqk"
   },
   "source": [
    "# Setup"
   ]
  },
  {
   "cell_type": "markdown",
   "metadata": {
    "id": "6wpyRpkOacql"
   },
   "source": [
    "Firstly, let's import a few common modules, ensure MatplotLib plots figures inline and prepare a function to save the figures. We also check that Python 3.5 or later is installed (although Python 2.x may work, it is deprecated so we strongly recommend you use Python 3 instead), as well as Scikit-Learn ≥0.20 and TensorFlow ≥2.0."
   ]
  },
  {
   "cell_type": "code",
   "execution_count": 1,
   "metadata": {
    "id": "icgmwamUacqn"
   },
   "outputs": [],
   "source": [
    "# TensorFlow ≥2.0 is required\n",
    "import tensorflow as tf\n",
    "\n",
    "# Common imports\n",
    "import numpy as np\n",
    "import os\n",
    "\n",
    "# to make this notebook's output stable across runs\n",
    "np.random.seed(42)\n",
    "\n",
    "# To plot pretty figures\n",
    "%matplotlib inline\n",
    "import matplotlib as mpl\n",
    "import matplotlib.pyplot as plt\n",
    "mpl.rc('axes', labelsize=14)\n",
    "mpl.rc('xtick', labelsize=12)\n",
    "mpl.rc('ytick', labelsize=12)\n",
    "\n",
    "# Ignore useless warnings (see SciPy issue #5998)\n",
    "import warnings\n",
    "warnings.filterwarnings(action=\"ignore\", message=\"^internal gelsd\")"
   ]
  },
  {
   "cell_type": "markdown",
   "metadata": {
    "id": "0V8d5Ds8acqo"
   },
   "source": [
    "# Building an Image Classifier"
   ]
  },
  {
   "cell_type": "markdown",
   "metadata": {
    "id": "bHHrhoORacqp"
   },
   "source": [
    "First let's import TensorFlow and Keras."
   ]
  },
  {
   "cell_type": "code",
   "execution_count": 2,
   "metadata": {
    "id": "Ik-vO27Uacqq"
   },
   "outputs": [],
   "source": [
    "import tensorflow as tf\n",
    "from tensorflow import keras"
   ]
  },
  {
   "cell_type": "code",
   "execution_count": 3,
   "metadata": {
    "id": "-FMXAUxIacqr"
   },
   "outputs": [
    {
     "data": {
      "text/plain": [
       "'2.8.0'"
      ]
     },
     "execution_count": 3,
     "metadata": {},
     "output_type": "execute_result"
    }
   ],
   "source": [
    "tf.__version__"
   ]
  },
  {
   "cell_type": "markdown",
   "metadata": {
    "id": "gVpwqaM-acqr"
   },
   "source": [
    "Let's start by loading the fashion MNIST dataset. Keras has a number of functions to load popular datasets in `keras.datasets`. The dataset is already split for you between a training set and a test set, but it can be useful to split the training set further to have a validation set:"
   ]
  },
  {
   "cell_type": "code",
   "execution_count": 4,
   "metadata": {
    "id": "Rn8EaD44acqs"
   },
   "outputs": [],
   "source": [
    "fashion_mnist = keras.datasets.fashion_mnist\n",
    "(X_train_full, y_train_full), (X_test, y_test) = fashion_mnist.load_data()"
   ]
  },
  {
   "cell_type": "markdown",
   "metadata": {
    "id": "VXVI_Ixeacqs"
   },
   "source": [
    "The training set contains 60,000 grayscale images, each 28x28 pixels:"
   ]
  },
  {
   "cell_type": "code",
   "execution_count": 5,
   "metadata": {
    "id": "WzCGfMpOacqt"
   },
   "outputs": [
    {
     "data": {
      "text/plain": [
       "(60000, 28, 28)"
      ]
     },
     "execution_count": 5,
     "metadata": {},
     "output_type": "execute_result"
    }
   ],
   "source": [
    "X_train_full.shape"
   ]
  },
  {
   "cell_type": "markdown",
   "metadata": {
    "id": "_PZvT5gIacqt"
   },
   "source": [
    "Each pixel intensity is represented as a byte (0 to 255):"
   ]
  },
  {
   "cell_type": "code",
   "execution_count": 6,
   "metadata": {
    "id": "SiGq-rGIacqt"
   },
   "outputs": [
    {
     "data": {
      "text/plain": [
       "dtype('uint8')"
      ]
     },
     "execution_count": 6,
     "metadata": {},
     "output_type": "execute_result"
    }
   ],
   "source": [
    "X_train_full.dtype"
   ]
  },
  {
   "cell_type": "markdown",
   "metadata": {
    "id": "SE0c6Cdxacqu"
   },
   "source": [
    "Let's split the full training set into a validation set and a (smaller) training set. We also scale the pixel intensities down to the 0-1 range and convert them to floats, by dividing by 255."
   ]
  },
  {
   "cell_type": "code",
   "execution_count": 7,
   "metadata": {
    "id": "Gz_5sLUfacqu"
   },
   "outputs": [],
   "source": [
    "X_valid, X_train = X_train_full[:5000] / 255., X_train_full[5000:] / 255.\n",
    "y_valid, y_train = y_train_full[:5000], y_train_full[5000:]\n",
    "X_test = X_test / 255."
   ]
  },
  {
   "cell_type": "markdown",
   "metadata": {
    "id": "vEFZHSHeacqu"
   },
   "source": [
    "You can plot an image using Matplotlib's `imshow()` function, with a `'binary'`\n",
    " color map:"
   ]
  },
  {
   "cell_type": "code",
   "execution_count": 8,
   "metadata": {
    "id": "2Qs7KBPgacqv"
   },
   "outputs": [
    {
     "data": {
      "image/png": "[encoded data removed]",
      "text/plain": [
       "<Figure size 432x288 with 1 Axes>"
      ]
     },
     "metadata": {
      "needs_background": "light"
     },
     "output_type": "display_data"
    }
   ],
   "source": [
    "plt.imshow(X_train[0], cmap=\"binary\")\n",
    "plt.axis('off')\n",
    "plt.show()"
   ]
  },
  {
   "cell_type": "markdown",
   "metadata": {
    "id": "-26E14Vfacqv"
   },
   "source": [
    "The labels are the class IDs (represented as uint8), from 0 to 9:"
   ]
  },
  {
   "cell_type": "code",
   "execution_count": 9,
   "metadata": {
    "id": "-4DQ2Af3acqv"
   },
   "outputs": [
    {
     "data": {
      "text/plain": [
       "array([4, 0, 7, ..., 3, 0, 5], dtype=uint8)"
      ]
     },
     "execution_count": 9,
     "metadata": {},
     "output_type": "execute_result"
    }
   ],
   "source": [
    "y_train"
   ]
  },
  {
   "cell_type": "markdown",
   "metadata": {
    "id": "DwOZlaX6acqv"
   },
   "source": [
    "Here are the corresponding class names:"
   ]
  },
  {
   "cell_type": "code",
   "execution_count": 10,
   "metadata": {
    "id": "fCAIdUUzacqw"
   },
   "outputs": [],
   "source": [
    "class_names = [\"T-shirt/top\", \"Trouser\", \"Pullover\", \"Dress\", \"Coat\",\n",
    "               \"Sandal\", \"Shirt\", \"Sneaker\", \"Bag\", \"Ankle boot\"]"
   ]
  },
  {
   "cell_type": "markdown",
   "metadata": {
    "id": "fa1U1VXwacqw"
   },
   "source": [
    "So the first image in the training set is a coat:"
   ]
  },
  {
   "cell_type": "code",
   "execution_count": 11,
   "metadata": {
    "id": "-3H8faYcacqw"
   },
   "outputs": [
    {
     "data": {
      "text/plain": [
       "'Coat'"
      ]
     },
     "execution_count": 11,
     "metadata": {},
     "output_type": "execute_result"
    }
   ],
   "source": [
    "class_names[y_train[0]]"
   ]
  },
  {
   "cell_type": "markdown",
   "metadata": {
    "id": "YMSRejEsacqw"
   },
   "source": [
    "The validation set contains 5,000 images, and the test set contains 10,000 images:"
   ]
  },
  {
   "cell_type": "code",
   "execution_count": 12,
   "metadata": {
    "id": "tAGRUsQAacqw"
   },
   "outputs": [
    {
     "data": {
      "text/plain": [
       "(5000, 28, 28)"
      ]
     },
     "execution_count": 12,
     "metadata": {},
     "output_type": "execute_result"
    }
   ],
   "source": [
    "X_valid.shape"
   ]
  },
  {
   "cell_type": "code",
   "execution_count": 13,
   "metadata": {
    "id": "xNVF4FCDacqx"
   },
   "outputs": [
    {
     "data": {
      "text/plain": [
       "(10000, 28, 28)"
      ]
     },
     "execution_count": 13,
     "metadata": {},
     "output_type": "execute_result"
    }
   ],
   "source": [
    "X_test.shape"
   ]
  },
  {
   "cell_type": "markdown",
   "metadata": {
    "id": "quew7MwGacqx"
   },
   "source": [
    "Let's take a look at a sample of the images in the dataset:"
   ]
  },
  {
   "cell_type": "code",
   "execution_count": 14,
   "metadata": {
    "id": "yuvF_RNmacqx"
   },
   "outputs": [
    {
     "data": {
      "image/png": "[encoded data removed]",
      "text/plain": [
       "<Figure size 864x345.6 with 40 Axes>"
      ]
     },
     "metadata": {
      "needs_background": "light"
     },
     "output_type": "display_data"
    }
   ],
   "source": [
    "n_rows = 4\n",
    "n_cols = 10\n",
    "plt.figure(figsize=(n_cols * 1.2, n_rows * 1.2))\n",
    "for row in range(n_rows):\n",
    "    for col in range(n_cols):\n",
    "        index = n_cols * row + col\n",
    "        plt.subplot(n_rows, n_cols, index + 1)\n",
    "        plt.imshow(X_train[index], cmap=\"binary\", interpolation=\"nearest\")\n",
    "        plt.axis('off')\n",
    "        plt.title(class_names[y_train[index]], fontsize=12)\n",
    "plt.subplots_adjust(wspace=0.2, hspace=0.5)\n",
    "plt.show()"
   ]
  },
  {
   "cell_type": "markdown",
   "metadata": {
    "id": "7a8qp0E9acqx"
   },
   "source": [
    "## Construct a Model"
   ]
  },
  {
   "cell_type": "code",
   "execution_count": 15,
   "metadata": {
    "id": "akBujamTacqx"
   },
   "outputs": [],
   "source": [
    "model = keras.models.Sequential()\n",
    "model.add(keras.layers.Flatten(input_shape=[28, 28]))\n",
    "model.add(keras.layers.Dense(300, activation=\"relu\"))\n",
    "model.add(keras.layers.Dense(100, activation=\"relu\"))\n",
    "model.add(keras.layers.Dense(10, activation=\"softmax\"))"
   ]
  },
  {
   "cell_type": "code",
   "execution_count": 16,
   "metadata": {
    "id": "PAXtCVzwacqy"
   },
   "outputs": [],
   "source": [
    "keras.backend.clear_session()\n",
    "np.random.seed(42)"
   ]
  },
  {
   "cell_type": "markdown",
   "metadata": {
    "id": "QYcF3HgYacqy"
   },
   "source": [
    "### or using the folowing method"
   ]
  },
  {
   "cell_type": "code",
   "execution_count": 17,
   "metadata": {
    "id": "2cB4-2ZYacqy"
   },
   "outputs": [],
   "source": [
    "model = keras.models.Sequential([\n",
    "    keras.layers.Flatten(input_shape=[28, 28]),\n",
    "    keras.layers.Dense(300, activation=\"relu\"),\n",
    "    keras.layers.Dense(100, activation=\"relu\"),\n",
    "    keras.layers.Dense(10, activation=\"softmax\")\n",
    "])"
   ]
  },
  {
   "cell_type": "code",
   "execution_count": 18,
   "metadata": {
    "id": "98i8a3hKacqy"
   },
   "outputs": [
    {
     "data": {
      "text/plain": [
       "[<keras.layers.core.flatten.Flatten at 0x1f9530834c0>,\n",
       " <keras.layers.core.dense.Dense at 0x1f953083fd0>,\n",
       " <keras.layers.core.dense.Dense at 0x1f952e29880>,\n",
       " <keras.layers.core.dense.Dense at 0x1f9530832e0>]"
      ]
     },
     "execution_count": 18,
     "metadata": {},
     "output_type": "execute_result"
    }
   ],
   "source": [
    "model.layers"
   ]
  },
  {
   "cell_type": "code",
   "execution_count": 19,
   "metadata": {
    "id": "Rgt_8iY7acqz"
   },
   "outputs": [
    {
     "name": "stdout",
     "output_type": "stream",
     "text": [
      "Model: \"sequential\"\n",
      "_________________________________________________________________\n",
      " Layer (type)                Output Shape              Param #   \n",
      "=================================================================\n",
      " flatten (Flatten)           (None, 784)               0         \n",
      "                                                                 \n",
      " dense (Dense)               (None, 300)               235500    \n",
      "                                                                 \n",
      " dense_1 (Dense)             (None, 100)               30100     \n",
      "                                                                 \n",
      " dense_2 (Dense)             (None, 10)                1010      \n",
      "                                                                 \n",
      "=================================================================\n",
      "Total params: 266,610\n",
      "Trainable params: 266,610\n",
      "Non-trainable params: 0\n",
      "_________________________________________________________________\n"
     ]
    }
   ],
   "source": [
    "model.summary()"
   ]
  },
  {
   "cell_type": "code",
   "execution_count": 20,
   "metadata": {},
   "outputs": [
    {
     "name": "stdout",
     "output_type": "stream",
     "text": [
      "Requirement already satisfied: pydot in c:\\users\\pc\\anaconda3\\lib\\site-packages (1.4.2)\n",
      "Requirement already satisfied: pyparsing>=2.1.4 in c:\\users\\pc\\anaconda3\\lib\\site-packages (from pydot) (3.0.4)\n",
      "Note: you may need to restart the kernel to use updated packages.\n"
     ]
    }
   ],
   "source": [
    "pip install pydot"
   ]
  },
  {
   "cell_type": "code",
   "execution_count": 21,
   "metadata": {
    "id": "05BpgfWOacqz"
   },
   "outputs": [],
   "source": [
    "#keras.utils.plot_model(model, \"my_mnist_model.png\", show_shapes=True)"
   ]
  },
  {
   "cell_type": "code",
   "execution_count": 22,
   "metadata": {
    "id": "AceN10Fracqz"
   },
   "outputs": [
    {
     "data": {
      "text/plain": [
       "'dense'"
      ]
     },
     "execution_count": 22,
     "metadata": {},
     "output_type": "execute_result"
    }
   ],
   "source": [
    "hidden1 = model.layers[1]\n",
    "hidden1.name"
   ]
  },
  {
   "cell_type": "code",
   "execution_count": 23,
   "metadata": {
    "id": "TAEc8qncacqz"
   },
   "outputs": [
    {
     "data": {
      "text/plain": [
       "True"
      ]
     },
     "execution_count": 23,
     "metadata": {},
     "output_type": "execute_result"
    }
   ],
   "source": [
    "model.get_layer(hidden1.name) is hidden1"
   ]
  },
  {
   "cell_type": "code",
   "execution_count": 24,
   "metadata": {
    "id": "z98YYeF5acqz"
   },
   "outputs": [],
   "source": [
    "weights, biases = hidden1.get_weights()"
   ]
  },
  {
   "cell_type": "code",
   "execution_count": 25,
   "metadata": {
    "id": "yMVMU0jvacq0"
   },
   "outputs": [
    {
     "data": {
      "text/plain": [
       "array([[ 0.02203132, -0.06798652, -0.00845861, ..., -0.00769566,\n",
       "        -0.02479441,  0.02714273],\n",
       "       [ 0.0150798 , -0.02127315,  0.05799924, ..., -0.02881185,\n",
       "        -0.01737189, -0.02110712],\n",
       "       [ 0.06264843,  0.05892386,  0.05906144, ..., -0.06236017,\n",
       "        -0.05523596,  0.01698109],\n",
       "       ...,\n",
       "       [-0.04819538, -0.02817044, -0.0042744 , ..., -0.05889996,\n",
       "         0.02650096,  0.03815081],\n",
       "       [-0.05848898,  0.05507824, -0.03065011, ...,  0.05974005,\n",
       "         0.06137851, -0.0597721 ],\n",
       "       [ 0.06627403, -0.05594883, -0.05956815, ...,  0.00370681,\n",
       "        -0.06469597,  0.00559049]], dtype=float32)"
      ]
     },
     "execution_count": 25,
     "metadata": {},
     "output_type": "execute_result"
    }
   ],
   "source": [
    "weights"
   ]
  },
  {
   "cell_type": "code",
   "execution_count": 26,
   "metadata": {
    "id": "G0hs4uYKacq0"
   },
   "outputs": [
    {
     "data": {
      "text/plain": [
       "(784, 300)"
      ]
     },
     "execution_count": 26,
     "metadata": {},
     "output_type": "execute_result"
    }
   ],
   "source": [
    "weights.shape"
   ]
  },
  {
   "cell_type": "code",
   "execution_count": 27,
   "metadata": {
    "id": "CzayjkFAacq1"
   },
   "outputs": [
    {
     "data": {
      "text/plain": [
       "array([0., 0., 0., 0., 0., 0., 0., 0., 0., 0., 0., 0., 0., 0., 0., 0., 0.,\n",
       "       0., 0., 0., 0., 0., 0., 0., 0., 0., 0., 0., 0., 0., 0., 0., 0., 0.,\n",
       "       0., 0., 0., 0., 0., 0., 0., 0., 0., 0., 0., 0., 0., 0., 0., 0., 0.,\n",
       "       0., 0., 0., 0., 0., 0., 0., 0., 0., 0., 0., 0., 0., 0., 0., 0., 0.,\n",
       "       0., 0., 0., 0., 0., 0., 0., 0., 0., 0., 0., 0., 0., 0., 0., 0., 0.,\n",
       "       0., 0., 0., 0., 0., 0., 0., 0., 0., 0., 0., 0., 0., 0., 0., 0., 0.,\n",
       "       0., 0., 0., 0., 0., 0., 0., 0., 0., 0., 0., 0., 0., 0., 0., 0., 0.,\n",
       "       0., 0., 0., 0., 0., 0., 0., 0., 0., 0., 0., 0., 0., 0., 0., 0., 0.,\n",
       "       0., 0., 0., 0., 0., 0., 0., 0., 0., 0., 0., 0., 0., 0., 0., 0., 0.,\n",
       "       0., 0., 0., 0., 0., 0., 0., 0., 0., 0., 0., 0., 0., 0., 0., 0., 0.,\n",
       "       0., 0., 0., 0., 0., 0., 0., 0., 0., 0., 0., 0., 0., 0., 0., 0., 0.,\n",
       "       0., 0., 0., 0., 0., 0., 0., 0., 0., 0., 0., 0., 0., 0., 0., 0., 0.,\n",
       "       0., 0., 0., 0., 0., 0., 0., 0., 0., 0., 0., 0., 0., 0., 0., 0., 0.,\n",
       "       0., 0., 0., 0., 0., 0., 0., 0., 0., 0., 0., 0., 0., 0., 0., 0., 0.,\n",
       "       0., 0., 0., 0., 0., 0., 0., 0., 0., 0., 0., 0., 0., 0., 0., 0., 0.,\n",
       "       0., 0., 0., 0., 0., 0., 0., 0., 0., 0., 0., 0., 0., 0., 0., 0., 0.,\n",
       "       0., 0., 0., 0., 0., 0., 0., 0., 0., 0., 0., 0., 0., 0., 0., 0., 0.,\n",
       "       0., 0., 0., 0., 0., 0., 0., 0., 0., 0., 0.], dtype=float32)"
      ]
     },
     "execution_count": 27,
     "metadata": {},
     "output_type": "execute_result"
    }
   ],
   "source": [
    "biases"
   ]
  },
  {
   "cell_type": "code",
   "execution_count": 28,
   "metadata": {
    "id": "wdHPHSWyacq2"
   },
   "outputs": [
    {
     "data": {
      "text/plain": [
       "(300,)"
      ]
     },
     "execution_count": 28,
     "metadata": {},
     "output_type": "execute_result"
    }
   ],
   "source": [
    "biases.shape"
   ]
  },
  {
   "cell_type": "markdown",
   "metadata": {
    "id": "PkQb2wwzacq2"
   },
   "source": [
    "### Compile the Model\n",
    "Here you can chose the loss function, the optimizer, the performance metric, etc. check Keras documentation for further details."
   ]
  },
  {
   "cell_type": "code",
   "execution_count": 29,
   "metadata": {
    "id": "6QVb-tY5acq3"
   },
   "outputs": [],
   "source": [
    "model.compile(loss=\"sparse_categorical_crossentropy\",\n",
    "              optimizer=\"sgd\",\n",
    "              metrics=[\"accuracy\"])"
   ]
  },
  {
   "cell_type": "markdown",
   "metadata": {
    "id": "quW426rNacq3"
   },
   "source": [
    "This is equivalent to:"
   ]
  },
  {
   "cell_type": "markdown",
   "metadata": {
    "id": "RKPeDLhUacq3"
   },
   "source": [
    "```python\n",
    "model.compile(loss=keras.losses.sparse_categorical_crossentropy,\n",
    "              optimizer=keras.optimizers.SGD(),\n",
    "              metrics=[keras.metrics.sparse_categorical_accuracy])\n",
    "```"
   ]
  },
  {
   "cell_type": "markdown",
   "metadata": {
    "id": "hC5P5uszacq4"
   },
   "source": [
    "### Train the model\n",
    "Here you can chose how many epochs you need and the batch size."
   ]
  },
  {
   "cell_type": "code",
   "execution_count": 30,
   "metadata": {
    "id": "F_gZvy9oacq4"
   },
   "outputs": [
    {
     "name": "stdout",
     "output_type": "stream",
     "text": [
      "Epoch 1/30\n",
      "1719/1719 [==============================] - 8s 4ms/step - loss: 0.7199 - accuracy: 0.7642 - val_loss: 0.5394 - val_accuracy: 0.8172\n",
      "Epoch 2/30\n",
      "1719/1719 [==============================] - 7s 4ms/step - loss: 0.4898 - accuracy: 0.8309 - val_loss: 0.4616 - val_accuracy: 0.8432\n",
      "Epoch 3/30\n",
      "1719/1719 [==============================] - 7s 4ms/step - loss: 0.4455 - accuracy: 0.8443 - val_loss: 0.4300 - val_accuracy: 0.8524\n",
      "Epoch 4/30\n",
      "1719/1719 [==============================] - 7s 4ms/step - loss: 0.4165 - accuracy: 0.8547 - val_loss: 0.4179 - val_accuracy: 0.8564\n",
      "Epoch 5/30\n",
      "1719/1719 [==============================] - 7s 4ms/step - loss: 0.3959 - accuracy: 0.8605 - val_loss: 0.3797 - val_accuracy: 0.8698\n",
      "Epoch 6/30\n",
      "1719/1719 [==============================] - 7s 4ms/step - loss: 0.3795 - accuracy: 0.8668 - val_loss: 0.3885 - val_accuracy: 0.8644\n",
      "Epoch 7/30\n",
      "1719/1719 [==============================] - 7s 4ms/step - loss: 0.3655 - accuracy: 0.8703 - val_loss: 0.3742 - val_accuracy: 0.8694\n",
      "Epoch 8/30\n",
      "1719/1719 [==============================] - 7s 4ms/step - loss: 0.3547 - accuracy: 0.8743 - val_loss: 0.3594 - val_accuracy: 0.8744\n",
      "Epoch 9/30\n",
      "1719/1719 [==============================] - 7s 4ms/step - loss: 0.3433 - accuracy: 0.8783 - val_loss: 0.3520 - val_accuracy: 0.8748\n",
      "Epoch 10/30\n",
      "1719/1719 [==============================] - 7s 4ms/step - loss: 0.3342 - accuracy: 0.8807 - val_loss: 0.3538 - val_accuracy: 0.8760\n",
      "Epoch 11/30\n",
      "1719/1719 [==============================] - 7s 4ms/step - loss: 0.3248 - accuracy: 0.8839 - val_loss: 0.3529 - val_accuracy: 0.8746\n",
      "Epoch 12/30\n",
      "1719/1719 [==============================] - 7s 4ms/step - loss: 0.3169 - accuracy: 0.8862 - val_loss: 0.3306 - val_accuracy: 0.8808\n",
      "Epoch 13/30\n",
      "1719/1719 [==============================] - 7s 4ms/step - loss: 0.3096 - accuracy: 0.8891 - val_loss: 0.3255 - val_accuracy: 0.8834\n",
      "Epoch 14/30\n",
      "1719/1719 [==============================] - 7s 4ms/step - loss: 0.3021 - accuracy: 0.8913 - val_loss: 0.3369 - val_accuracy: 0.8770\n",
      "Epoch 15/30\n",
      "1719/1719 [==============================] - 7s 4ms/step - loss: 0.2966 - accuracy: 0.8929 - val_loss: 0.3350 - val_accuracy: 0.8796\n",
      "Epoch 16/30\n",
      "1719/1719 [==============================] - 7s 4ms/step - loss: 0.2894 - accuracy: 0.8952 - val_loss: 0.3218 - val_accuracy: 0.8856\n",
      "Epoch 17/30\n",
      "1719/1719 [==============================] - 7s 4ms/step - loss: 0.2849 - accuracy: 0.8973 - val_loss: 0.3627 - val_accuracy: 0.8628\n",
      "Epoch 18/30\n",
      "1719/1719 [==============================] - 7s 4ms/step - loss: 0.2793 - accuracy: 0.8990 - val_loss: 0.3213 - val_accuracy: 0.8846\n",
      "Epoch 19/30\n",
      "1719/1719 [==============================] - 7s 4ms/step - loss: 0.2735 - accuracy: 0.9009 - val_loss: 0.3147 - val_accuracy: 0.8834\n",
      "Epoch 20/30\n",
      "1719/1719 [==============================] - 7s 4ms/step - loss: 0.2686 - accuracy: 0.9024 - val_loss: 0.3110 - val_accuracy: 0.8896\n",
      "Epoch 21/30\n",
      "1719/1719 [==============================] - 7s 4ms/step - loss: 0.2633 - accuracy: 0.9045 - val_loss: 0.3074 - val_accuracy: 0.8914\n",
      "Epoch 22/30\n",
      "1719/1719 [==============================] - 7s 4ms/step - loss: 0.2597 - accuracy: 0.9051 - val_loss: 0.3017 - val_accuracy: 0.8912\n",
      "Epoch 23/30\n",
      "1719/1719 [==============================] - 7s 4ms/step - loss: 0.2554 - accuracy: 0.9082 - val_loss: 0.2948 - val_accuracy: 0.8950\n",
      "Epoch 24/30\n",
      "1719/1719 [==============================] - 7s 4ms/step - loss: 0.2502 - accuracy: 0.9093 - val_loss: 0.3308 - val_accuracy: 0.8852\n",
      "Epoch 25/30\n",
      "1719/1719 [==============================] - 7s 4ms/step - loss: 0.2460 - accuracy: 0.9116 - val_loss: 0.3025 - val_accuracy: 0.8898\n",
      "Epoch 26/30\n",
      "1719/1719 [==============================] - 7s 4ms/step - loss: 0.2414 - accuracy: 0.9118 - val_loss: 0.2986 - val_accuracy: 0.8890\n",
      "Epoch 27/30\n",
      "1719/1719 [==============================] - 7s 4ms/step - loss: 0.2380 - accuracy: 0.9146 - val_loss: 0.3007 - val_accuracy: 0.8896\n",
      "Epoch 28/30\n",
      "1719/1719 [==============================] - 7s 4ms/step - loss: 0.2340 - accuracy: 0.9145 - val_loss: 0.3045 - val_accuracy: 0.8906\n",
      "Epoch 29/30\n",
      "1719/1719 [==============================] - 7s 4ms/step - loss: 0.2295 - accuracy: 0.9169 - val_loss: 0.3019 - val_accuracy: 0.8924\n",
      "Epoch 30/30\n",
      "1719/1719 [==============================] - 7s 4ms/step - loss: 0.2256 - accuracy: 0.9185 - val_loss: 0.3010 - val_accuracy: 0.8928\n"
     ]
    }
   ],
   "source": [
    "history = model.fit(X_train, y_train, batch_size=32, epochs=30,\n",
    "                    validation_data=(X_valid, y_valid))\n",
    "\n"
   ]
  },
  {
   "cell_type": "code",
   "execution_count": 31,
   "metadata": {
    "id": "0Ro5MYThacq4"
   },
   "outputs": [
    {
     "data": {
      "text/plain": [
       "{'verbose': 1, 'epochs': 30, 'steps': 1719}"
      ]
     },
     "execution_count": 31,
     "metadata": {},
     "output_type": "execute_result"
    }
   ],
   "source": [
    "history.params"
   ]
  },
  {
   "cell_type": "code",
   "execution_count": 32,
   "metadata": {
    "id": "6rTxkHo8acq5"
   },
   "outputs": [
    {
     "name": "stdout",
     "output_type": "stream",
     "text": [
      "[0, 1, 2, 3, 4, 5, 6, 7, 8, 9, 10, 11, 12, 13, 14, 15, 16, 17, 18, 19, 20, 21, 22, 23, 24, 25, 26, 27, 28, 29]\n"
     ]
    }
   ],
   "source": [
    "print(history.epoch)"
   ]
  },
  {
   "cell_type": "code",
   "execution_count": 33,
   "metadata": {
    "id": "IP2TOcCQacq5"
   },
   "outputs": [
    {
     "data": {
      "text/plain": [
       "dict_keys(['loss', 'accuracy', 'val_loss', 'val_accuracy'])"
      ]
     },
     "execution_count": 33,
     "metadata": {},
     "output_type": "execute_result"
    }
   ],
   "source": [
    "history.history.keys()"
   ]
  },
  {
   "cell_type": "markdown",
   "metadata": {
    "id": "4FBJcVCpacq5"
   },
   "source": [
    "### Plot learning Curves"
   ]
  },
  {
   "cell_type": "code",
   "execution_count": 34,
   "metadata": {
    "id": "kxePamO0acq5"
   },
   "outputs": [
    {
     "data": {
      "image/png": "[encoded data removed]",
      "text/plain": [
       "<Figure size 576x360 with 1 Axes>"
      ]
     },
     "metadata": {
      "needs_background": "light"
     },
     "output_type": "display_data"
    }
   ],
   "source": [
    "import pandas as pd\n",
    "\n",
    "pd.DataFrame(history.history).plot(figsize=(8, 5))\n",
    "plt.grid(True)\n",
    "plt.gca().set_ylim(0, 1)\n",
    "plt.show()"
   ]
  },
  {
   "cell_type": "code",
   "execution_count": 35,
   "metadata": {
    "id": "89sHOezTacq6"
   },
   "outputs": [
    {
     "name": "stdout",
     "output_type": "stream",
     "text": [
      "313/313 [==============================] - 1s 3ms/step - loss: 0.3356 - accuracy: 0.8818\n"
     ]
    },
    {
     "data": {
      "text/plain": [
       "[0.33564040064811707, 0.8817999958992004]"
      ]
     },
     "execution_count": 35,
     "metadata": {},
     "output_type": "execute_result"
    }
   ],
   "source": [
    "model.evaluate(X_test, y_test)"
   ]
  },
  {
   "cell_type": "code",
   "execution_count": 36,
   "metadata": {
    "id": "z1deloVBacq6"
   },
   "outputs": [
    {
     "data": {
      "text/plain": [
       "array([[0.  , 0.  , 0.  , 0.  , 0.  , 0.02, 0.  , 0.02, 0.  , 0.97],\n",
       "       [0.  , 0.  , 1.  , 0.  , 0.  , 0.  , 0.  , 0.  , 0.  , 0.  ],\n",
       "       [0.  , 1.  , 0.  , 0.  , 0.  , 0.  , 0.  , 0.  , 0.  , 0.  ]],\n",
       "      dtype=float32)"
      ]
     },
     "execution_count": 36,
     "metadata": {},
     "output_type": "execute_result"
    }
   ],
   "source": [
    "X_new = X_test[:3]\n",
    "y_proba = model.predict(X_new)\n",
    "y_proba.round(2)"
   ]
  },
  {
   "cell_type": "code",
   "execution_count": 37,
   "metadata": {
    "id": "5PjuTF_Facq6"
   },
   "outputs": [
    {
     "data": {
      "text/plain": [
       "array([9, 2, 1], dtype=int64)"
      ]
     },
     "execution_count": 37,
     "metadata": {},
     "output_type": "execute_result"
    }
   ],
   "source": [
    "y_pred = np.argmax(model.predict(X_new), axis=-1)\n",
    "y_pred"
   ]
  },
  {
   "cell_type": "code",
   "execution_count": 38,
   "metadata": {
    "id": "0R-tx7gzacq6"
   },
   "outputs": [
    {
     "data": {
      "text/plain": [
       "array(['Ankle boot', 'Pullover', 'Trouser'], dtype='<U11')"
      ]
     },
     "execution_count": 38,
     "metadata": {},
     "output_type": "execute_result"
    }
   ],
   "source": [
    "np.array(class_names)[y_pred]"
   ]
  },
  {
   "cell_type": "code",
   "execution_count": 39,
   "metadata": {
    "id": "Y58gp-HJacq6"
   },
   "outputs": [
    {
     "data": {
      "text/plain": [
       "array([9, 2, 1], dtype=uint8)"
      ]
     },
     "execution_count": 39,
     "metadata": {},
     "output_type": "execute_result"
    }
   ],
   "source": [
    "y_new = y_test[:3]\n",
    "y_new"
   ]
  },
  {
   "cell_type": "code",
   "execution_count": 40,
   "metadata": {
    "id": "-6G9v_eYacq6"
   },
   "outputs": [
    {
     "data": {
      "image/png": "[encoded data removed]",
      "text/plain": [
       "<Figure size 518.4x172.8 with 3 Axes>"
      ]
     },
     "metadata": {
      "needs_background": "light"
     },
     "output_type": "display_data"
    }
   ],
   "source": [
    "plt.figure(figsize=(7.2, 2.4))\n",
    "for index, image in enumerate(X_new):\n",
    "    plt.subplot(1, 3, index + 1)\n",
    "    plt.imshow(image, cmap=\"binary\", interpolation=\"nearest\")\n",
    "    plt.axis('off')\n",
    "    plt.title(class_names[y_test[index]], fontsize=12)\n",
    "plt.subplots_adjust(wspace=0.2, hspace=0.5)\n",
    "plt.show()"
   ]
  },
  {
   "cell_type": "markdown",
   "metadata": {
    "collapsed": true,
    "id": "8opWtqF7acq7"
   },
   "source": [
    "## Exercise"
   ]
  },
  {
   "cell_type": "markdown",
   "metadata": {
    "id": "uQH0vJOcacq7"
   },
   "source": [
    "#### 1) Plot Learning curves when using different optimizers\n",
    "#### 2) Plot Learning curves when using different batch size\n",
    "#### 3) Plot Learning curves when using different number of epochs\n",
    "#### 4) Add additional neurons and use Dropout Layer. Plot Learning curves.\n",
    "#### 5) Use Batch Normalisation\n",
    "#### 6) repeat with more layers\n",
    "#### 7) apply on different datasets"
   ]
  },
  {
   "cell_type": "markdown",
   "metadata": {
    "collapsed": true,
    "id": "KLvVOxcYacq7"
   },
   "source": []
  },
  {
   "cell_type": "markdown",
   "metadata": {},
   "source": [
    "## Compile the Model using different optimizers"
   ]
  },
  {
   "cell_type": "code",
   "execution_count": 41,
   "metadata": {},
   "outputs": [
    {
     "data": {
      "text/plain": [
       "'\\nmodel.compile(loss=\"sparse_categorical_crossentropy\",\\n              optimizer=\"adagrad\",\\n              metrics=[\"accuracy\"])\\n'"
      ]
     },
     "execution_count": 41,
     "metadata": {},
     "output_type": "execute_result"
    }
   ],
   "source": [
    "'''\n",
    "model.compile(loss=\"sparse_categorical_crossentropy\",\n",
    "              optimizer=\"adam\",\n",
    "              metrics=[\"accuracy\"])\n",
    "'''\n",
    "\n",
    "\n",
    "model.compile(loss=\"sparse_categorical_crossentropy\",\n",
    "              optimizer=keras.optimizers.Nadam(),\n",
    "              metrics=[\"accuracy\"])\n",
    "\n",
    "\n",
    "'''\n",
    "model.compile(loss=\"sparse_categorical_crossentropy\",\n",
    "              optimizer=\"adagrad\",\n",
    "              metrics=[\"accuracy\"])\n",
    "'''"
   ]
  },
  {
   "cell_type": "markdown",
   "metadata": {},
   "source": [
    "### Train the model using different number of epochs and different batch size"
   ]
  },
  {
   "cell_type": "code",
   "execution_count": 42,
   "metadata": {},
   "outputs": [
    {
     "name": "stdout",
     "output_type": "stream",
     "text": [
      "Epoch 1/40\n",
      "1146/1146 [==============================] - 8s 6ms/step - loss: 0.3423 - accuracy: 0.8753 - val_loss: 0.3606 - val_accuracy: 0.8686\n",
      "Epoch 2/40\n",
      "1146/1146 [==============================] - 7s 6ms/step - loss: 0.3091 - accuracy: 0.8869 - val_loss: 0.3570 - val_accuracy: 0.8682\n",
      "Epoch 3/40\n",
      "1146/1146 [==============================] - 8s 7ms/step - loss: 0.2845 - accuracy: 0.8945 - val_loss: 0.3168 - val_accuracy: 0.8842\n",
      "Epoch 4/40\n",
      "1146/1146 [==============================] - 8s 7ms/step - loss: 0.2691 - accuracy: 0.8995 - val_loss: 0.3067 - val_accuracy: 0.8876\n",
      "Epoch 5/40\n",
      "1146/1146 [==============================] - 65s 57ms/step - loss: 0.2521 - accuracy: 0.9045 - val_loss: 0.3051 - val_accuracy: 0.8900\n",
      "Epoch 6/40\n",
      "1146/1146 [==============================] - 8s 7ms/step - loss: 0.2433 - accuracy: 0.9083 - val_loss: 0.2910 - val_accuracy: 0.8964\n",
      "Epoch 7/40\n",
      "1146/1146 [==============================] - 8s 7ms/step - loss: 0.2311 - accuracy: 0.9133 - val_loss: 0.2817 - val_accuracy: 0.8990\n",
      "Epoch 8/40\n",
      "1146/1146 [==============================] - 7s 6ms/step - loss: 0.2226 - accuracy: 0.9155 - val_loss: 0.3114 - val_accuracy: 0.8950\n",
      "Epoch 9/40\n",
      "1146/1146 [==============================] - 7s 6ms/step - loss: 0.2140 - accuracy: 0.9191 - val_loss: 0.3069 - val_accuracy: 0.8908\n",
      "Epoch 10/40\n",
      "1146/1146 [==============================] - 6s 6ms/step - loss: 0.2061 - accuracy: 0.9215 - val_loss: 0.3243 - val_accuracy: 0.8914\n",
      "Epoch 11/40\n",
      "1146/1146 [==============================] - 7s 6ms/step - loss: 0.1988 - accuracy: 0.9253 - val_loss: 0.3161 - val_accuracy: 0.8924\n",
      "Epoch 12/40\n",
      "1146/1146 [==============================] - 6s 6ms/step - loss: 0.1937 - accuracy: 0.9268 - val_loss: 0.3023 - val_accuracy: 0.8996\n",
      "Epoch 13/40\n",
      "1146/1146 [==============================] - 6s 6ms/step - loss: 0.1844 - accuracy: 0.9295 - val_loss: 0.3058 - val_accuracy: 0.8966\n",
      "Epoch 14/40\n",
      "1146/1146 [==============================] - 6s 6ms/step - loss: 0.1799 - accuracy: 0.9321 - val_loss: 0.3465 - val_accuracy: 0.8928\n",
      "Epoch 15/40\n",
      "1146/1146 [==============================] - 8s 7ms/step - loss: 0.1755 - accuracy: 0.9330 - val_loss: 0.3006 - val_accuracy: 0.9040\n",
      "Epoch 16/40\n",
      "1146/1146 [==============================] - 8s 7ms/step - loss: 0.1685 - accuracy: 0.9360 - val_loss: 0.3327 - val_accuracy: 0.9006\n",
      "Epoch 17/40\n",
      "1146/1146 [==============================] - 8s 7ms/step - loss: 0.1633 - accuracy: 0.9387 - val_loss: 0.3368 - val_accuracy: 0.8976\n",
      "Epoch 18/40\n",
      "1146/1146 [==============================] - 7s 6ms/step - loss: 0.1566 - accuracy: 0.9401 - val_loss: 0.3178 - val_accuracy: 0.9046\n",
      "Epoch 19/40\n",
      "1146/1146 [==============================] - 8s 7ms/step - loss: 0.1534 - accuracy: 0.9415 - val_loss: 0.3682 - val_accuracy: 0.8956\n",
      "Epoch 20/40\n",
      "1146/1146 [==============================] - 8s 7ms/step - loss: 0.1508 - accuracy: 0.9423 - val_loss: 0.3222 - val_accuracy: 0.9040\n",
      "Epoch 21/40\n",
      "1146/1146 [==============================] - 7s 6ms/step - loss: 0.1427 - accuracy: 0.9451 - val_loss: 0.3527 - val_accuracy: 0.9010\n",
      "Epoch 22/40\n",
      "1146/1146 [==============================] - 7s 6ms/step - loss: 0.1400 - accuracy: 0.9466 - val_loss: 0.3611 - val_accuracy: 0.8978\n",
      "Epoch 23/40\n",
      "1146/1146 [==============================] - 7s 6ms/step - loss: 0.1392 - accuracy: 0.9457 - val_loss: 0.3486 - val_accuracy: 0.9044\n",
      "Epoch 24/40\n",
      "1146/1146 [==============================] - 7s 6ms/step - loss: 0.1342 - accuracy: 0.9491 - val_loss: 0.3642 - val_accuracy: 0.8986\n",
      "Epoch 25/40\n",
      "1146/1146 [==============================] - 7s 6ms/step - loss: 0.1293 - accuracy: 0.9502 - val_loss: 0.3760 - val_accuracy: 0.8968\n",
      "Epoch 26/40\n",
      "1146/1146 [==============================] - 7s 6ms/step - loss: 0.1249 - accuracy: 0.9526 - val_loss: 0.3527 - val_accuracy: 0.8970\n",
      "Epoch 27/40\n",
      "1146/1146 [==============================] - 7s 6ms/step - loss: 0.1258 - accuracy: 0.9519 - val_loss: 0.4149 - val_accuracy: 0.8976\n",
      "Epoch 28/40\n",
      "1146/1146 [==============================] - 7s 6ms/step - loss: 0.1190 - accuracy: 0.9551 - val_loss: 0.4114 - val_accuracy: 0.9002\n",
      "Epoch 29/40\n",
      "1146/1146 [==============================] - 7s 6ms/step - loss: 0.1171 - accuracy: 0.9561 - val_loss: 0.3823 - val_accuracy: 0.9048\n",
      "Epoch 30/40\n",
      "1146/1146 [==============================] - 7s 6ms/step - loss: 0.1141 - accuracy: 0.9556 - val_loss: 0.4044 - val_accuracy: 0.9044\n",
      "Epoch 31/40\n",
      "1146/1146 [==============================] - 7s 6ms/step - loss: 0.1112 - accuracy: 0.9574 - val_loss: 0.4062 - val_accuracy: 0.8990\n",
      "Epoch 32/40\n",
      "1146/1146 [==============================] - 7s 6ms/step - loss: 0.1097 - accuracy: 0.9578 - val_loss: 0.4467 - val_accuracy: 0.8998\n",
      "Epoch 33/40\n",
      "1146/1146 [==============================] - 7s 7ms/step - loss: 0.1061 - accuracy: 0.9591 - val_loss: 0.4489 - val_accuracy: 0.9008\n",
      "Epoch 34/40\n",
      "1146/1146 [==============================] - 7s 6ms/step - loss: 0.1020 - accuracy: 0.9613 - val_loss: 0.4591 - val_accuracy: 0.9026\n",
      "Epoch 35/40\n",
      "1146/1146 [==============================] - 7s 6ms/step - loss: 0.1028 - accuracy: 0.9613 - val_loss: 0.4651 - val_accuracy: 0.8990\n",
      "Epoch 36/40\n",
      "1146/1146 [==============================] - 7s 6ms/step - loss: 0.0985 - accuracy: 0.9629 - val_loss: 0.4543 - val_accuracy: 0.9054\n",
      "Epoch 37/40\n",
      "1146/1146 [==============================] - 7s 6ms/step - loss: 0.0945 - accuracy: 0.9637 - val_loss: 0.4193 - val_accuracy: 0.9064\n",
      "Epoch 38/40\n",
      "1146/1146 [==============================] - 7s 6ms/step - loss: 0.0953 - accuracy: 0.9636 - val_loss: 0.4626 - val_accuracy: 0.9038\n",
      "Epoch 39/40\n",
      "1146/1146 [==============================] - 7s 6ms/step - loss: 0.0946 - accuracy: 0.9635 - val_loss: 0.4898 - val_accuracy: 0.8986\n",
      "Epoch 40/40\n",
      "1146/1146 [==============================] - 7s 6ms/step - loss: 0.0899 - accuracy: 0.9653 - val_loss: 0.4672 - val_accuracy: 0.9014\n"
     ]
    },
    {
     "data": {
      "text/plain": [
       "'\\nhistory = model.fit(X_train, y_train, batch_size=48, epochs=50,\\n                    validation_data=(X_valid, y_valid))                    \\n'"
      ]
     },
     "execution_count": 42,
     "metadata": {},
     "output_type": "execute_result"
    }
   ],
   "source": [
    "'''\n",
    "history = model.fit(X_train, y_train, batch_size=32, epochs=10,\n",
    "                    validation_data=(X_valid, y_valid))                    \n",
    "'''\n",
    "\n",
    "\n",
    "history = model.fit(X_train, y_train, batch_size=48, epochs=40,\n",
    "                    validation_data=(X_valid, y_valid))                    \n",
    "\n",
    "\n",
    "'''\n",
    "history = model.fit(X_train, y_train, batch_size=48, epochs=50,\n",
    "                    validation_data=(X_valid, y_valid))                    \n",
    "'''"
   ]
  },
  {
   "cell_type": "markdown",
   "metadata": {},
   "source": [
    "## Plot learning curves"
   ]
  },
  {
   "cell_type": "code",
   "execution_count": 43,
   "metadata": {},
   "outputs": [
    {
     "data": {
      "image/png": "[encoded data removed]",
      "text/plain": [
       "<Figure size 576x360 with 1 Axes>"
      ]
     },
     "metadata": {
      "needs_background": "light"
     },
     "output_type": "display_data"
    }
   ],
   "source": [
    "import pandas as pd\n",
    "\n",
    "pd.DataFrame(history.history).plot(figsize=(8, 5))\n",
    "plt.grid(True)\n",
    "plt.gca().set_ylim(0, 1)\n",
    "plt.show()"
   ]
  },
  {
   "cell_type": "markdown",
   "metadata": {},
   "source": [
    "# Add more layers"
   ]
  },
  {
   "cell_type": "code",
   "execution_count": 44,
   "metadata": {},
   "outputs": [],
   "source": [
    "model = keras.models.Sequential()\n",
    "model.add(keras.layers.Flatten(input_shape=[28, 28]))\n",
    "model.add(keras.layers.Dense(300, activation=\"relu\"))\n",
    "model.add(keras.layers.Dense(200, activation=\"relu\"))\n",
    "model.add(keras.layers.Dense(100, activation=\"relu\"))\n",
    "model.add(keras.layers.Dense(100, activation=\"relu\"))\n",
    "model.add(keras.layers.Dense(10, activation=\"softmax\"))"
   ]
  },
  {
   "cell_type": "markdown",
   "metadata": {},
   "source": [
    "# Use adagrad optimizer"
   ]
  },
  {
   "cell_type": "code",
   "execution_count": 45,
   "metadata": {},
   "outputs": [],
   "source": [
    "model.compile(loss=\"sparse_categorical_crossentropy\",\n",
    "              optimizer=\"adagrad\",\n",
    "              metrics=[\"accuracy\"])"
   ]
  },
  {
   "cell_type": "markdown",
   "metadata": {},
   "source": [
    "# Training the model"
   ]
  },
  {
   "cell_type": "code",
   "execution_count": 46,
   "metadata": {},
   "outputs": [
    {
     "name": "stdout",
     "output_type": "stream",
     "text": [
      "Epoch 1/20\n",
      "1719/1719 [==============================] - 9s 5ms/step - loss: 1.1825 - accuracy: 0.6123 - val_loss: 0.7390 - val_accuracy: 0.7444\n",
      "Epoch 2/20\n",
      "1719/1719 [==============================] - 9s 5ms/step - loss: 0.6700 - accuracy: 0.7761 - val_loss: 0.6022 - val_accuracy: 0.8046\n",
      "Epoch 3/20\n",
      "1719/1719 [==============================] - 9s 5ms/step - loss: 0.5754 - accuracy: 0.8087 - val_loss: 0.5403 - val_accuracy: 0.8216\n",
      "Epoch 4/20\n",
      "1719/1719 [==============================] - 9s 5ms/step - loss: 0.5292 - accuracy: 0.8209 - val_loss: 0.5025 - val_accuracy: 0.8342\n",
      "Epoch 5/20\n",
      "1719/1719 [==============================] - 9s 5ms/step - loss: 0.5008 - accuracy: 0.8291 - val_loss: 0.4869 - val_accuracy: 0.8374\n",
      "Epoch 6/20\n",
      "1719/1719 [==============================] - 9s 5ms/step - loss: 0.4811 - accuracy: 0.8348 - val_loss: 0.4698 - val_accuracy: 0.8426\n",
      "Epoch 7/20\n",
      "1719/1719 [==============================] - 9s 5ms/step - loss: 0.4661 - accuracy: 0.8391 - val_loss: 0.4536 - val_accuracy: 0.8496\n",
      "Epoch 8/20\n",
      "1719/1719 [==============================] - 9s 5ms/step - loss: 0.4550 - accuracy: 0.8428 - val_loss: 0.4429 - val_accuracy: 0.8518\n",
      "Epoch 9/20\n",
      "1719/1719 [==============================] - 9s 5ms/step - loss: 0.4458 - accuracy: 0.8456 - val_loss: 0.4371 - val_accuracy: 0.8512\n",
      "Epoch 10/20\n",
      "1719/1719 [==============================] - 10s 6ms/step - loss: 0.4377 - accuracy: 0.8482 - val_loss: 0.4351 - val_accuracy: 0.8540\n",
      "Epoch 11/20\n",
      "1719/1719 [==============================] - 12s 7ms/step - loss: 0.4309 - accuracy: 0.8503 - val_loss: 0.4231 - val_accuracy: 0.8576\n",
      "Epoch 12/20\n",
      "1719/1719 [==============================] - 10s 6ms/step - loss: 0.4249 - accuracy: 0.8524 - val_loss: 0.4175 - val_accuracy: 0.8586\n",
      "Epoch 13/20\n",
      "1719/1719 [==============================] - 9s 5ms/step - loss: 0.4192 - accuracy: 0.8547 - val_loss: 0.4140 - val_accuracy: 0.8606\n",
      "Epoch 14/20\n",
      "1719/1719 [==============================] - 9s 5ms/step - loss: 0.4146 - accuracy: 0.8566 - val_loss: 0.4097 - val_accuracy: 0.8628\n",
      "Epoch 15/20\n",
      "1719/1719 [==============================] - 9s 5ms/step - loss: 0.4101 - accuracy: 0.8576 - val_loss: 0.4077 - val_accuracy: 0.8618\n",
      "Epoch 16/20\n",
      "1719/1719 [==============================] - 9s 5ms/step - loss: 0.4060 - accuracy: 0.8586 - val_loss: 0.4057 - val_accuracy: 0.8618\n",
      "Epoch 17/20\n",
      "1719/1719 [==============================] - 9s 5ms/step - loss: 0.4022 - accuracy: 0.8604 - val_loss: 0.4008 - val_accuracy: 0.8638\n",
      "Epoch 18/20\n",
      "1719/1719 [==============================] - 9s 6ms/step - loss: 0.3984 - accuracy: 0.8619 - val_loss: 0.3992 - val_accuracy: 0.8662\n",
      "Epoch 19/20\n",
      "1719/1719 [==============================] - 9s 5ms/step - loss: 0.3954 - accuracy: 0.8628 - val_loss: 0.3936 - val_accuracy: 0.8654\n",
      "Epoch 20/20\n",
      "1719/1719 [==============================] - 10s 6ms/step - loss: 0.3922 - accuracy: 0.8645 - val_loss: 0.3910 - val_accuracy: 0.8678\n"
     ]
    }
   ],
   "source": [
    "history = model.fit(X_train, y_train, batch_size=32, epochs=20,\n",
    "                    validation_data=(X_valid, y_valid))\n"
   ]
  },
  {
   "cell_type": "markdown",
   "metadata": {},
   "source": [
    "# Using batch normalization and dropout layer"
   ]
  },
  {
   "cell_type": "code",
   "execution_count": 47,
   "metadata": {},
   "outputs": [],
   "source": [
    "from keras.layers import BatchNormalization\n",
    "from keras.layers import Dropout\n",
    "\n",
    "model.add(BatchNormalization())\n",
    "model.add(Dropout(0.25))"
   ]
  },
  {
   "cell_type": "markdown",
   "metadata": {},
   "source": [
    "# Plot learning curves"
   ]
  },
  {
   "cell_type": "code",
   "execution_count": 48,
   "metadata": {},
   "outputs": [
    {
     "data": {
      "image/png": "[encoded data removed]",
      "text/plain": [
       "<Figure size 576x360 with 1 Axes>"
      ]
     },
     "metadata": {
      "needs_background": "light"
     },
     "output_type": "display_data"
    }
   ],
   "source": [
    "import pandas as pd\n",
    "\n",
    "pd.DataFrame(history.history).plot(figsize=(8, 5))\n",
    "plt.grid(True)\n",
    "plt.gca().set_ylim(0, 1)\n",
    "plt.show()"
   ]
  }
 ],
 "metadata": {
  "colab": {
   "name": "ANN_with_keras.ipynb",
   "provenance": []
  },
  "kernelspec": {
   "display_name": "Python 3 (ipykernel)",
   "language": "python",
   "name": "python3"
  },
  "language_info": {
   "codemirror_mode": {
    "name": "ipython",
    "version": 3
   },
   "file_extension": ".py",
   "mimetype": "text/x-python",
   "name": "python",
   "nbconvert_exporter": "python",
   "pygments_lexer": "ipython3",
   "version": "3.9.7"
  },
  "nav_menu": {
   "height": "264px",
   "width": "369px"
  },
  "toc": {
   "navigate_menu": true,
   "number_sections": true,
   "sideBar": true,
   "threshold": 6,
   "toc_cell": false,
   "toc_section_display": "block",
   "toc_window_display": false
  }
 },
 "nbformat": 4,
 "nbformat_minor": 1
}
